{
 "cells": [
  {
   "cell_type": "code",
   "execution_count": 1,
   "metadata": {},
   "outputs": [],
   "source": [
    "import numpy as np\n",
    "import pandas as pd\n",
    "import random \n",
    "import matplotlib.pyplot as plt\n",
    "import pandas as pd\n",
    "import time"
   ]
  },
  {
   "cell_type": "markdown",
   "metadata": {},
   "source": [
    "# Criando a Matrix "
   ]
  },
  {
   "cell_type": "code",
   "execution_count": 122,
   "metadata": {},
   "outputs": [],
   "source": [
    "#%%time\n",
    "def rocha(N, p=0):\n",
    "    #Condição que permita N ser apenas ímpar*\n",
    "    if N % 2 == 0: N = N+1\n",
    "    #Rocha será a matrix N por N\n",
    "    rocha, m = np.zeros((N,N))    ,    int((N-1)/2)\n",
    "    \n",
    "    # Monta a matriz conforme a probabilidade escolhida. Sendo quanto mais poros mais perto de p=1\n",
    "    for i in range(N):\n",
    "        for j in range(N):\n",
    "            if random.random() > p: rocha[i,j] = 1\n",
    "            else: rocha[i,j] = 0\n",
    "    #--------------------------------------#\n",
    "    \n",
    "    #Condição inicial de fluído no meio\n",
    "    if p == 1: rocha[m,m] = 1\n",
    "    else: rocha[m,m] = 0\n",
    "    return rocha\n"
   ]
  },
  {
   "cell_type": "code",
   "execution_count": 123,
   "metadata": {},
   "outputs": [],
   "source": [
    "#Matrix index vai criar uma matrix com os index da matrix rocha, somente para valores diferente de 0, \n",
    "# no caso só usa index para valores igual a 1\n",
    "def matrix_index(N, p):\n",
    "    matrixindex = []\n",
    "    M = rocha(N, p)\n",
    "    for (i,j), x in np.ndenumerate(M):\n",
    "        if M[i,j] != 0:\n",
    "            matrixindex.append([i,j])\n",
    "    return M , np.array(matrixindex)"
   ]
  },
  {
   "cell_type": "markdown",
   "metadata": {},
   "source": [
    "# Clusters"
   ]
  },
  {
   "cell_type": "code",
   "execution_count": 147,
   "metadata": {},
   "outputs": [
    {
     "name": "stdout",
     "output_type": "stream",
     "text": [
      "CPU times: user 8 µs, sys: 0 ns, total: 8 µs\n",
      "Wall time: 11 µs\n"
     ]
    }
   ],
   "source": [
    "%%time\n",
    "def Clusters(N, p):\n",
    "    Matrix = matrix_index(N, p)\n",
    "    rock = Matrix[0]\n",
    "    onecluster,first = True, 0\n",
    "    m_path = []\n",
    "    clus = []\n",
    "    count = 1\n",
    "    lc = (Matrix[1]).tolist()\n",
    "    \n",
    "    while first ==0: \n",
    "        m = [random.choice(lc)]\n",
    "        \n",
    "        if rock[m[0][0],m[0][1]] < 2:\n",
    "            rock[m[0][0],m[0][1]] = 2\n",
    "            lc.remove([m[0][0],m[0][1]])\n",
    "            \n",
    "            while onecluster:\n",
    "                for i in range(len(m)):\n",
    "                    l,c = m[i][0] , m[i][1]\n",
    "                    if m[i][0] != 0 and rock[m[i][0]-1,m[i][1]] != 0 and rock[m[i][0]-1,m[i][1]] != 2: #Linha zero\n",
    "                        rock[m[i][0]-1,m[i][1]] = 2\n",
    "                        m_path.append([m[i][0]-1,m[i][1]])\n",
    "                        lc.remove([m[i][0]-1,m[i][1]])\n",
    "                        count +=1\n",
    "        \n",
    "                    if m[i][1] != N-1 and rock[m[i][0],m[i][1]+1] != 0 and rock[m[i][0],m[i][1]+1] != 2:\n",
    "                        rock[m[i][0],m[i][1]+1] = 2\n",
    "                        m_path.append([m[i][0],m[i][1]+1])\n",
    "                        lc.remove([l,c+1])\n",
    "                        count +=1\n",
    "                \n",
    "                    if m[i][0] != N-1 and rock[m[i][0]+1,m[i][1]] != 0 and rock[m[i][0]+1,m[i][1]] != 2: #Linha zero\n",
    "                        rock[m[i][0]+1,m[i][1]] = 2\n",
    "                        m_path.append([m[i][0]+1,m[i][1]])\n",
    "                        lc.remove([l+1,c])\n",
    "                        count +=1\n",
    "                \n",
    "                    if m[i][1] != 0 and rock[m[i][0],m[i][1]-1] != 0 and rock[m[i][0],m[i][1]-1] != 2:\n",
    "                        rock[m[i][0],m[i][1]-1] = 2\n",
    "                        m_path.append([m[i][0],m[i][1]-1])\n",
    "                        lc.remove([l,c-1])\n",
    "                        count +=1\n",
    "   \n",
    "                if len(m_path) == 0: \n",
    "                    onecluster = False\n",
    "               \n",
    "                m = m_path \n",
    "                m_path = []\n",
    "            \n",
    "            clus.append(count)\n",
    "            count = 1\n",
    "            onecluster = True\n",
    "            if len(lc) == 0: \n",
    "                first = 1\n",
    "    \n",
    "    clusters = np.sort(clus)\n",
    "    Hist = np.histogram(clusters, bins=clusters[-1]-1)\n",
    "    return rock, clusters, Hist"
   ]
  },
  {
   "cell_type": "code",
   "execution_count": 167,
   "metadata": {},
   "outputs": [
    {
     "name": "stdout",
     "output_type": "stream",
     "text": [
      "0.030520915985107422\n"
     ]
    },
    {
     "data": {
      "text/plain": [
       "(array([[0., 2., 0., ..., 0., 0., 0.],\n",
       "        [0., 0., 0., ..., 2., 2., 2.],\n",
       "        [0., 0., 0., ..., 0., 2., 0.],\n",
       "        ...,\n",
       "        [0., 2., 2., ..., 0., 0., 0.],\n",
       "        [2., 2., 0., ..., 0., 0., 2.],\n",
       "        [0., 0., 0., ..., 0., 0., 0.]]),\n",
       " array([ 1,  1,  1,  1,  1,  1,  1,  1,  1,  1,  1,  1,  1,  1,  1,  1,  1,\n",
       "         1,  1,  1,  1,  1,  1,  1,  1,  1,  1,  1,  1,  1,  1,  1,  1,  1,\n",
       "         1,  1,  1,  1,  1,  1,  1,  1,  1,  1,  1,  1,  1,  1,  1,  1,  1,\n",
       "         1,  1,  1,  1,  1,  1,  1,  1,  1,  1,  1,  1,  1,  1,  1,  1,  1,\n",
       "         1,  1,  1,  1,  1,  1,  1,  1,  1,  1,  1,  1,  1,  1,  1,  1,  1,\n",
       "         1,  1,  1,  1,  1,  1,  1,  1,  1,  1,  1,  1,  1,  1,  1,  1,  1,\n",
       "         1,  1,  1,  1,  1,  1,  1,  1,  1,  1,  1,  1,  1,  1,  1,  1,  1,\n",
       "         1,  1,  1,  1,  1,  1,  1,  1,  1,  1,  1,  2,  2,  2,  2,  2,  2,\n",
       "         2,  2,  2,  2,  2,  2,  2,  2,  2,  2,  2,  2,  2,  2,  2,  2,  2,\n",
       "         2,  2,  2,  2,  2,  2,  2,  2,  2,  2,  2,  2,  2,  2,  2,  2,  2,\n",
       "         2,  2,  2,  2,  2,  2,  2,  2,  2,  2,  2,  3,  3,  3,  3,  3,  3,\n",
       "         3,  3,  3,  3,  3,  3,  3,  3,  3,  3,  3,  3,  3,  3,  3,  3,  3,\n",
       "         3,  3,  3,  3,  3,  3,  3,  3,  3,  4,  4,  4,  4,  4,  4,  4,  4,\n",
       "         4,  4,  4,  4,  4,  4,  5,  5,  5,  5,  5,  5,  5,  5,  5,  6,  6,\n",
       "         6,  6,  6,  6,  7,  7,  7,  7,  7,  8,  8,  8,  8,  8,  9,  9,  9,\n",
       "         9,  9,  9,  9,  9, 10, 10, 11, 11, 12, 13, 13, 13, 14, 14, 14, 15,\n",
       "        16, 20, 20, 20, 21, 23, 23, 24, 28, 30, 40]),\n",
       " (array([130,  51,  32,  14,   9,   6,   5,   5,   8,   2,   2,   1,   3,\n",
       "           3,   1,   1,   0,   0,   0,   3,   1,   0,   2,   1,   0,   0,\n",
       "           0,   1,   0,   1,   0,   0,   0,   0,   0,   0,   0,   0,   1]),\n",
       "  array([ 1.,  2.,  3.,  4.,  5.,  6.,  7.,  8.,  9., 10., 11., 12., 13.,\n",
       "         14., 15., 16., 17., 18., 19., 20., 21., 22., 23., 24., 25., 26.,\n",
       "         27., 28., 29., 30., 31., 32., 33., 34., 35., 36., 37., 38., 39.,\n",
       "         40.])))"
      ]
     },
     "execution_count": 167,
     "metadata": {},
     "output_type": "execute_result"
    }
   ],
   "source": [
    "ini = time.time()\n",
    "A = Clusters(51, 0.6)\n",
    "fim = time.time()\n",
    "print(fim-ini)\n",
    "A"
   ]
  },
  {
   "cell_type": "code",
   "execution_count": null,
   "metadata": {},
   "outputs": [],
   "source": []
  },
  {
   "cell_type": "code",
   "execution_count": null,
   "metadata": {},
   "outputs": [],
   "source": []
  },
  {
   "cell_type": "code",
   "execution_count": 163,
   "metadata": {},
   "outputs": [
    {
     "data": {
      "image/png": "[encoded data removed]",
      "text/plain": [
       "<Figure size 720x720 with 1 Axes>"
      ]
     },
     "metadata": {},
     "output_type": "display_data"
    }
   ],
   "source": [
    "def Plot(N, p): \n",
    "    plt.figure(figsize=(10,10)) \n",
    "    plt.pcolormesh(A[0])\n",
    "    plt.show()\n",
    "    return \n",
    "Plot(0,0)"
   ]
  },
  {
   "cell_type": "markdown",
   "metadata": {},
   "source": []
  },
  {
   "cell_type": "code",
   "execution_count": null,
   "metadata": {},
   "outputs": [],
   "source": []
  }
 ],
 "metadata": {
  "kernelspec": {
   "display_name": "Python 3",
   "language": "python",
   "name": "python3"
  },
  "language_info": {
   "codemirror_mode": {
    "name": "ipython",
    "version": 3
   },
   "file_extension": ".py",
   "mimetype": "text/x-python",
   "name": "python",
   "nbconvert_exporter": "python",
   "pygments_lexer": "ipython3",
   "version": "3.6.5"
  }
 },
 "nbformat": 4,
 "nbformat_minor": 2
}
